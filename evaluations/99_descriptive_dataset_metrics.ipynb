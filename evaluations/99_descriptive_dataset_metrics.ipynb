{
 "cells": [
  {
   "cell_type": "code",
   "execution_count": null,
   "metadata": {},
   "outputs": [],
   "source": [
    "import numpy as np\n",
    "import pandas as pd\n",
    "\n",
    "# Imports\n",
    "import utils\n",
    "import os\n",
    "import matplotlib as mpl\n",
    "import matplotlib.pyplot as plt\n",
    "import matplotlib.ticker as ticker\n",
    "import seaborn as sns\n",
    "\n",
    "from pathlib import Path\n",
    "from glob import glob\n",
    "\n",
    "notebook_path = Path(f\"{os.path.dirname(os.path.realpath('99_descriptive_dataset_metrics.ipynb'))}\")\n",
    "\n",
    "# Data download / load from disk\n",
    "wandb_entity = \"...\"                                                                                            # <-- Add your credentials for W&B here.\n",
    "wandb_project = \"...\"                                                                                           # <-- Add your credentials for W&B here.\n",
    "wandb_run_filter_keywords = [\"baseline\"]\n"
   ]
  },
  {
   "cell_type": "code",
   "execution_count": null,
   "metadata": {},
   "outputs": [],
   "source": [
    "# Seaborn configuration\n",
    "# Alternative font: Linux Libertine\n",
    "sns.set_theme(context=\"paper\", style=\"whitegrid\", palette=\"colorblind\", font=\"Times New Roman\", font_scale=3)\n",
    "sns.color_palette(palette=\"colorblind\")\n",
    "sns.set(rc={\"figure.figsize\": (6, 4)})\n",
    "sns.set(font_scale=1.8)"
   ]
  },
  {
   "cell_type": "code",
   "execution_count": null,
   "metadata": {},
   "outputs": [],
   "source": [
    "dataset_paths = {\n",
    "\t\"blond\": f\"{notebook_path.parent}/pipelines/blond/data/processed/dirichlet\",\n",
    "\t\"mnist\": f\"{notebook_path.parent}/pipelines/mnist/data/processed/dirichlet\",\n",
    "\t\"shakespeare\": f\"{notebook_path.parent}/pipelines/shakespeare/data/processed/dirichlet\"\n",
    "}\n",
    "\n",
    "df = pd.DataFrame()\n",
    "idx = 0\n",
    "for dataset_name, data_path in dataset_paths.items():\n",
    "\tfiles = os.listdir(data_path)\n",
    "\tfor file in files:\n",
    "\t\tif file.endswith(\".csv\"):\n",
    "\t\t\tclient_file = pd.read_csv(f\"{data_path}/{file}\")\n",
    "\t\t\tclient_id = file.split(\"/\")[-1].split(\".\")[0].split(\"_\")[-1]\n",
    "\t\t\tfor fold in [\"train\", \"val\", \"test\"]:\n",
    "\t\t\t\tlength = len(client_file.loc[client_file[\"fold\"] == fold])\n",
    "\t\t\t\trecord = pd.DataFrame({\"dataset\": dataset_name, \"client_id\": client_id, \"fold\": fold, \"records\": length}, index=[idx])\n",
    "\t\t\t\tdf = pd.concat([df, record])\n",
    "\t\t\t\tidx += 1"
   ]
  },
  {
   "cell_type": "code",
   "execution_count": null,
   "metadata": {},
   "outputs": [],
   "source": [
    "for dataset in [\"blond\", \"mnist\", \"shakespeare\"]:\n",
    "\tsubset = df.loc[df[\"dataset\"] == dataset]\n",
    "\tprint(f\"{dataset}: {subset.loc[subset['fold'] == 'train', 'records'].sum()}\")\n",
    "\tax = sns.violinplot(data=subset, x=\"fold\", y=\"records\")\n",
    "\tax.set(ylabel=\"Samples\", xlabel=\"Split\")\n",
    "\tax.set_xticklabels([\"Train\", \"Validation\", \"Test\"])\n",
    "\n",
    "\tif max(subset[\"records\"]) > 1000:\n",
    "\t\tax.set(ylabel=\"Samples (in 1,000)\")\n",
    "\t\ttick_scaler = ticker.FuncFormatter(lambda x, pos: \"{0:g}\".format(x/1000))\n",
    "\t\tax.yaxis.set_major_formatter(tick_scaler)\n",
    "\telif max(subset[\"records\"]) > 100:\n",
    "\t\tax.set(ylabel=\"Samples (in 100)\")\n",
    "\t\ttick_scaler = ticker.FuncFormatter(lambda x, pos: \"{0:g}\".format(x/100))\n",
    "\t\tax.yaxis.set_major_formatter(tick_scaler)\n",
    "\n",
    "\tutils.write_figure_to_disk(plt, file_name=f\"{dataset}_data_distribution\", chapter_name=\"datasets\")\n",
    "\tplt.show()"
   ]
  },
  {
   "cell_type": "code",
   "execution_count": null,
   "metadata": {},
   "outputs": [],
   "source": []
  }
 ],
 "metadata": {
  "kernelspec": {
   "display_name": "Python 3",
   "language": "python",
   "name": "python3"
  },
  "language_info": {
   "codemirror_mode": {
    "name": "ipython",
    "version": 2
   },
   "file_extension": ".py",
   "mimetype": "text/x-python",
   "name": "python",
   "nbconvert_exporter": "python",
   "pygments_lexer": "ipython2",
   "version": "2.7.6"
  }
 },
 "nbformat": 4,
 "nbformat_minor": 0
}
